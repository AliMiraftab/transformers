{
 "cells": [
  {
   "cell_type": "code",
   "execution_count": 1,
   "metadata": {},
   "outputs": [],
   "source": [
    "import requests\n",
    "import json\n",
    "\n",
    "from pprint import pprint"
   ]
  },
  {
   "cell_type": "code",
   "execution_count": 2,
   "metadata": {},
   "outputs": [
    {
     "name": "stdout",
     "output_type": "stream",
     "text": [
      "<class 'list'> 10\n",
      "{'Answer': 'Liver',\n",
      " 'Category': 'SCIENCE',\n",
      " 'Question': 'This organ removes excess glucose from the blood & stores it as '\n",
      "             'glycogen'}\n"
     ]
    }
   ],
   "source": [
    "dataset_address = \"https://raw.githubusercontent.com/weaviate-tutorials/quickstart/main/data/jeopardy_tiny.json\"\n",
    "resp = requests.get(dataset_address)\n",
    "data = json.loads(resp.text)\n",
    "\n",
    "print(type(data), len(data))\n",
    "\n",
    "pprint(data[0])"
   ]
  },
  {
   "cell_type": "code",
   "execution_count": 5,
   "metadata": {},
   "outputs": [
    {
     "ename": "KeyError",
     "evalue": "'OPENAI_API_KEY'",
     "output_type": "error",
     "traceback": [
      "\u001b[0;31m---------------------------------------------------------------------------\u001b[0m",
      "\u001b[0;31mKeyError\u001b[0m                                  Traceback (most recent call last)",
      "\u001b[1;32m/Users/ali/Documents/Research/transformers/notebook/vectore_database.ipynb Cell 3\u001b[0m line \u001b[0;36m8\n\u001b[1;32m      <a href='vscode-notebook-cell:/Users/ali/Documents/Research/transformers/notebook/vectore_database.ipynb#W2sZmlsZQ%3D%3D?line=4'>5</a>\u001b[0m \u001b[39mfrom\u001b[39;00m \u001b[39mdotenv\u001b[39;00m \u001b[39mimport\u001b[39;00m load_dotenv, find_dotenv\n\u001b[1;32m      <a href='vscode-notebook-cell:/Users/ali/Documents/Research/transformers/notebook/vectore_database.ipynb#W2sZmlsZQ%3D%3D?line=5'>6</a>\u001b[0m _ \u001b[39m=\u001b[39m load_dotenv(find_dotenv()) \u001b[39m# read local .env file\u001b[39;00m\n\u001b[0;32m----> <a href='vscode-notebook-cell:/Users/ali/Documents/Research/transformers/notebook/vectore_database.ipynb#W2sZmlsZQ%3D%3D?line=7'>8</a>\u001b[0m openai\u001b[39m.\u001b[39mapi_key \u001b[39m=\u001b[39m os\u001b[39m.\u001b[39;49menviron[\u001b[39m'\u001b[39;49m\u001b[39mOPENAI_API_KEY\u001b[39;49m\u001b[39m'\u001b[39;49m]\n\u001b[1;32m     <a href='vscode-notebook-cell:/Users/ali/Documents/Research/transformers/notebook/vectore_database.ipynb#W2sZmlsZQ%3D%3D?line=9'>10</a>\u001b[0m client \u001b[39m=\u001b[39m weaviate\u001b[39m.\u001b[39mClient(\n\u001b[1;32m     <a href='vscode-notebook-cell:/Users/ali/Documents/Research/transformers/notebook/vectore_database.ipynb#W2sZmlsZQ%3D%3D?line=10'>11</a>\u001b[0m     embedded_options\u001b[39m=\u001b[39mEmbeddedOptions(),\n\u001b[1;32m     <a href='vscode-notebook-cell:/Users/ali/Documents/Research/transformers/notebook/vectore_database.ipynb#W2sZmlsZQ%3D%3D?line=11'>12</a>\u001b[0m     additional_headers\u001b[39m=\u001b[39m{\n\u001b[0;32m   (...)\u001b[0m\n\u001b[1;32m     <a href='vscode-notebook-cell:/Users/ali/Documents/Research/transformers/notebook/vectore_database.ipynb#W2sZmlsZQ%3D%3D?line=14'>15</a>\u001b[0m     }\n\u001b[1;32m     <a href='vscode-notebook-cell:/Users/ali/Documents/Research/transformers/notebook/vectore_database.ipynb#W2sZmlsZQ%3D%3D?line=15'>16</a>\u001b[0m )\n\u001b[1;32m     <a href='vscode-notebook-cell:/Users/ali/Documents/Research/transformers/notebook/vectore_database.ipynb#W2sZmlsZQ%3D%3D?line=16'>17</a>\u001b[0m \u001b[39mprint\u001b[39m(\u001b[39mf\u001b[39m\u001b[39m\"\u001b[39m\u001b[39mClient created? \u001b[39m\u001b[39m{\u001b[39;00mclient\u001b[39m.\u001b[39mis_ready()\u001b[39m}\u001b[39;00m\u001b[39m\"\u001b[39m)\n",
      "File \u001b[0;32m<frozen os>:679\u001b[0m, in \u001b[0;36m__getitem__\u001b[0;34m(self, key)\u001b[0m\n",
      "\u001b[0;31mKeyError\u001b[0m: 'OPENAI_API_KEY'"
     ]
    }
   ],
   "source": [
    "import weaviate, os\n",
    "from weaviate import EmbeddedOptions\n",
    "import openai\n",
    "\n",
    "from dotenv import load_dotenv, find_dotenv\n",
    "_ = load_dotenv(find_dotenv()) # read local .env file\n",
    "\n",
    "openai.api_key = os.environ['OPENAI_API_KEY']\n",
    "\n",
    "client = weaviate.Client(\n",
    "    embedded_options=EmbeddedOptions(),\n",
    "    additional_headers={\n",
    "        \"X-OpenAI-BaseURL\": os.environ['OPENAI_API_BASE'],\n",
    "        \"X-OpenAI-Api-Key\": openai.api_key  # Replace this with your actual key\n",
    "    }\n",
    ")\n",
    "print(f\"Client created? {client.is_ready()}\")"
   ]
  },
  {
   "cell_type": "code",
   "execution_count": null,
   "metadata": {},
   "outputs": [],
   "source": []
  }
 ],
 "metadata": {
  "kernelspec": {
   "display_name": ".genAI",
   "language": "python",
   "name": "python3"
  },
  "language_info": {
   "codemirror_mode": {
    "name": "ipython",
    "version": 3
   },
   "file_extension": ".py",
   "mimetype": "text/x-python",
   "name": "python",
   "nbconvert_exporter": "python",
   "pygments_lexer": "ipython3",
   "version": "3.11.3"
  }
 },
 "nbformat": 4,
 "nbformat_minor": 2
}
